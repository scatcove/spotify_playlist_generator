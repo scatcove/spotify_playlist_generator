{
 "cells": [
  {
   "cell_type": "code",
   "execution_count": 1,
   "metadata": {},
   "outputs": [],
   "source": [
    "import spotipy\n",
    "from spotipy.oauth2 import SpotifyOAuth\n",
    "\n",
    "client_id = '869e324b67544f269354a3d4e26911a0'\n",
    "client_secret = '7464ea01e11a439c8d8ec50fa803b9e7'\n",
    "redirect_uri = 'http://localhost:8888/callback'\n",
    "scope = 'user-library-read user-top-read playlist-modify-public'\n",
    "\n",
    "sp = spotipy.Spotify(auth_manager=SpotifyOAuth(client_id=client_id, client_secret=client_secret, redirect_uri=redirect_uri, scope=scope))\n"
   ]
  },
  {
   "cell_type": "code",
   "execution_count": 2,
   "metadata": {},
   "outputs": [
    {
     "ename": "KeyboardInterrupt",
     "evalue": "",
     "output_type": "error",
     "traceback": [
      "\u001b[0;31m---------------------------------------------------------------------------\u001b[0m",
      "\u001b[0;31mKeyboardInterrupt\u001b[0m                         Traceback (most recent call last)",
      "Cell \u001b[0;32mIn[2], line 5\u001b[0m\n\u001b[1;32m      2\u001b[0m     results \u001b[39m=\u001b[39m sp\u001b[39m.\u001b[39mcurrent_user_saved_tracks(limit\u001b[39m=\u001b[39mlimit)\n\u001b[1;32m      3\u001b[0m     \u001b[39mreturn\u001b[39;00m [track[\u001b[39m'\u001b[39m\u001b[39mtrack\u001b[39m\u001b[39m'\u001b[39m] \u001b[39mfor\u001b[39;00m track \u001b[39min\u001b[39;00m results[\u001b[39m'\u001b[39m\u001b[39mitems\u001b[39m\u001b[39m'\u001b[39m]]\n\u001b[0;32m----> 5\u001b[0m recently_liked_songs \u001b[39m=\u001b[39m get_recently_liked_songs()\n",
      "Cell \u001b[0;32mIn[2], line 2\u001b[0m, in \u001b[0;36mget_recently_liked_songs\u001b[0;34m(limit)\u001b[0m\n\u001b[1;32m      1\u001b[0m \u001b[39mdef\u001b[39;00m \u001b[39mget_recently_liked_songs\u001b[39m(limit\u001b[39m=\u001b[39m\u001b[39m20\u001b[39m):\n\u001b[0;32m----> 2\u001b[0m     results \u001b[39m=\u001b[39m sp\u001b[39m.\u001b[39;49mcurrent_user_saved_tracks(limit\u001b[39m=\u001b[39;49mlimit)\n\u001b[1;32m      3\u001b[0m     \u001b[39mreturn\u001b[39;00m [track[\u001b[39m'\u001b[39m\u001b[39mtrack\u001b[39m\u001b[39m'\u001b[39m] \u001b[39mfor\u001b[39;00m track \u001b[39min\u001b[39;00m results[\u001b[39m'\u001b[39m\u001b[39mitems\u001b[39m\u001b[39m'\u001b[39m]]\n",
      "File \u001b[0;32m~/opt/anaconda3/envs/cvnets/lib/python3.8/site-packages/spotipy/client.py:1284\u001b[0m, in \u001b[0;36mSpotify.current_user_saved_tracks\u001b[0;34m(self, limit, offset, market)\u001b[0m\n\u001b[1;32m   1274\u001b[0m \u001b[39mdef\u001b[39;00m \u001b[39mcurrent_user_saved_tracks\u001b[39m(\u001b[39mself\u001b[39m, limit\u001b[39m=\u001b[39m\u001b[39m20\u001b[39m, offset\u001b[39m=\u001b[39m\u001b[39m0\u001b[39m, market\u001b[39m=\u001b[39m\u001b[39mNone\u001b[39;00m):\n\u001b[1;32m   1275\u001b[0m \u001b[39m    \u001b[39m\u001b[39m\"\"\" Gets a list of the tracks saved in the current authorized user's\u001b[39;00m\n\u001b[1;32m   1276\u001b[0m \u001b[39m        \"Your Music\" library\u001b[39;00m\n\u001b[1;32m   1277\u001b[0m \n\u001b[0;32m   (...)\u001b[0m\n\u001b[1;32m   1282\u001b[0m \n\u001b[1;32m   1283\u001b[0m \u001b[39m    \"\"\"\u001b[39;00m\n\u001b[0;32m-> 1284\u001b[0m     \u001b[39mreturn\u001b[39;00m \u001b[39mself\u001b[39;49m\u001b[39m.\u001b[39;49m_get(\u001b[39m\"\u001b[39;49m\u001b[39mme/tracks\u001b[39;49m\u001b[39m\"\u001b[39;49m, limit\u001b[39m=\u001b[39;49mlimit, offset\u001b[39m=\u001b[39;49moffset, market\u001b[39m=\u001b[39;49mmarket)\n",
      "File \u001b[0;32m~/opt/anaconda3/envs/cvnets/lib/python3.8/site-packages/spotipy/client.py:321\u001b[0m, in \u001b[0;36mSpotify._get\u001b[0;34m(self, url, args, payload, **kwargs)\u001b[0m\n\u001b[1;32m    318\u001b[0m \u001b[39mif\u001b[39;00m args:\n\u001b[1;32m    319\u001b[0m     kwargs\u001b[39m.\u001b[39mupdate(args)\n\u001b[0;32m--> 321\u001b[0m \u001b[39mreturn\u001b[39;00m \u001b[39mself\u001b[39;49m\u001b[39m.\u001b[39;49m_internal_call(\u001b[39m\"\u001b[39;49m\u001b[39mGET\u001b[39;49m\u001b[39m\"\u001b[39;49m, url, payload, kwargs)\n",
      "File \u001b[0;32m~/opt/anaconda3/envs/cvnets/lib/python3.8/site-packages/spotipy/client.py:245\u001b[0m, in \u001b[0;36mSpotify._internal_call\u001b[0;34m(self, method, url, payload, params)\u001b[0m\n\u001b[1;32m    243\u001b[0m \u001b[39mif\u001b[39;00m \u001b[39mnot\u001b[39;00m url\u001b[39m.\u001b[39mstartswith(\u001b[39m\"\u001b[39m\u001b[39mhttp\u001b[39m\u001b[39m\"\u001b[39m):\n\u001b[1;32m    244\u001b[0m     url \u001b[39m=\u001b[39m \u001b[39mself\u001b[39m\u001b[39m.\u001b[39mprefix \u001b[39m+\u001b[39m url\n\u001b[0;32m--> 245\u001b[0m headers \u001b[39m=\u001b[39m \u001b[39mself\u001b[39;49m\u001b[39m.\u001b[39;49m_auth_headers()\n\u001b[1;32m    247\u001b[0m \u001b[39mif\u001b[39;00m \u001b[39m\"\u001b[39m\u001b[39mcontent_type\u001b[39m\u001b[39m\"\u001b[39m \u001b[39min\u001b[39;00m args[\u001b[39m\"\u001b[39m\u001b[39mparams\u001b[39m\u001b[39m\"\u001b[39m]:\n\u001b[1;32m    248\u001b[0m     headers[\u001b[39m\"\u001b[39m\u001b[39mContent-Type\u001b[39m\u001b[39m\"\u001b[39m] \u001b[39m=\u001b[39m args[\u001b[39m\"\u001b[39m\u001b[39mparams\u001b[39m\u001b[39m\"\u001b[39m][\u001b[39m\"\u001b[39m\u001b[39mcontent_type\u001b[39m\u001b[39m\"\u001b[39m]\n",
      "File \u001b[0;32m~/opt/anaconda3/envs/cvnets/lib/python3.8/site-packages/spotipy/client.py:236\u001b[0m, in \u001b[0;36mSpotify._auth_headers\u001b[0;34m(self)\u001b[0m\n\u001b[1;32m    234\u001b[0m     \u001b[39mreturn\u001b[39;00m {}\n\u001b[1;32m    235\u001b[0m \u001b[39mtry\u001b[39;00m:\n\u001b[0;32m--> 236\u001b[0m     token \u001b[39m=\u001b[39m \u001b[39mself\u001b[39;49m\u001b[39m.\u001b[39;49mauth_manager\u001b[39m.\u001b[39;49mget_access_token(as_dict\u001b[39m=\u001b[39;49m\u001b[39mFalse\u001b[39;49;00m)\n\u001b[1;32m    237\u001b[0m \u001b[39mexcept\u001b[39;00m \u001b[39mTypeError\u001b[39;00m:\n\u001b[1;32m    238\u001b[0m     token \u001b[39m=\u001b[39m \u001b[39mself\u001b[39m\u001b[39m.\u001b[39mauth_manager\u001b[39m.\u001b[39mget_access_token()\n",
      "File \u001b[0;32m~/opt/anaconda3/envs/cvnets/lib/python3.8/site-packages/spotipy/oauth2.py:535\u001b[0m, in \u001b[0;36mSpotifyOAuth.get_access_token\u001b[0;34m(self, code, as_dict, check_cache)\u001b[0m\n\u001b[1;32m    528\u001b[0m             token_info \u001b[39m=\u001b[39m \u001b[39mself\u001b[39m\u001b[39m.\u001b[39mrefresh_access_token(\n\u001b[1;32m    529\u001b[0m                 token_info[\u001b[39m\"\u001b[39m\u001b[39mrefresh_token\u001b[39m\u001b[39m\"\u001b[39m]\n\u001b[1;32m    530\u001b[0m             )\n\u001b[1;32m    531\u001b[0m         \u001b[39mreturn\u001b[39;00m token_info \u001b[39mif\u001b[39;00m as_dict \u001b[39melse\u001b[39;00m token_info[\u001b[39m\"\u001b[39m\u001b[39maccess_token\u001b[39m\u001b[39m\"\u001b[39m]\n\u001b[1;32m    533\u001b[0m payload \u001b[39m=\u001b[39m {\n\u001b[1;32m    534\u001b[0m     \u001b[39m\"\u001b[39m\u001b[39mredirect_uri\u001b[39m\u001b[39m\"\u001b[39m: \u001b[39mself\u001b[39m\u001b[39m.\u001b[39mredirect_uri,\n\u001b[0;32m--> 535\u001b[0m     \u001b[39m\"\u001b[39m\u001b[39mcode\u001b[39m\u001b[39m\"\u001b[39m: code \u001b[39mor\u001b[39;00m \u001b[39mself\u001b[39;49m\u001b[39m.\u001b[39;49mget_auth_response(),\n\u001b[1;32m    536\u001b[0m     \u001b[39m\"\u001b[39m\u001b[39mgrant_type\u001b[39m\u001b[39m\"\u001b[39m: \u001b[39m\"\u001b[39m\u001b[39mauthorization_code\u001b[39m\u001b[39m\"\u001b[39m,\n\u001b[1;32m    537\u001b[0m }\n\u001b[1;32m    538\u001b[0m \u001b[39mif\u001b[39;00m \u001b[39mself\u001b[39m\u001b[39m.\u001b[39mscope:\n\u001b[1;32m    539\u001b[0m     payload[\u001b[39m\"\u001b[39m\u001b[39mscope\u001b[39m\u001b[39m\"\u001b[39m] \u001b[39m=\u001b[39m \u001b[39mself\u001b[39m\u001b[39m.\u001b[39mscope\n",
      "File \u001b[0;32m~/opt/anaconda3/envs/cvnets/lib/python3.8/site-packages/spotipy/oauth2.py:490\u001b[0m, in \u001b[0;36mSpotifyOAuth.get_auth_response\u001b[0;34m(self, open_browser)\u001b[0m\n\u001b[1;32m    483\u001b[0m \u001b[39mif\u001b[39;00m (\n\u001b[1;32m    484\u001b[0m         open_browser\n\u001b[1;32m    485\u001b[0m         \u001b[39mand\u001b[39;00m redirect_host \u001b[39min\u001b[39;00m (\u001b[39m\"\u001b[39m\u001b[39m127.0.0.1\u001b[39m\u001b[39m\"\u001b[39m, \u001b[39m\"\u001b[39m\u001b[39mlocalhost\u001b[39m\u001b[39m\"\u001b[39m)\n\u001b[1;32m    486\u001b[0m         \u001b[39mand\u001b[39;00m redirect_info\u001b[39m.\u001b[39mscheme \u001b[39m==\u001b[39m \u001b[39m\"\u001b[39m\u001b[39mhttp\u001b[39m\u001b[39m\"\u001b[39m\n\u001b[1;32m    487\u001b[0m ):\n\u001b[1;32m    488\u001b[0m     \u001b[39m# Only start a local http server if a port is specified\u001b[39;00m\n\u001b[1;32m    489\u001b[0m     \u001b[39mif\u001b[39;00m redirect_port:\n\u001b[0;32m--> 490\u001b[0m         \u001b[39mreturn\u001b[39;00m \u001b[39mself\u001b[39;49m\u001b[39m.\u001b[39;49m_get_auth_response_local_server(redirect_port)\n\u001b[1;32m    491\u001b[0m     \u001b[39melse\u001b[39;00m:\n\u001b[1;32m    492\u001b[0m         logger\u001b[39m.\u001b[39mwarning(\u001b[39m'\u001b[39m\u001b[39mUsing `\u001b[39m\u001b[39m%s\u001b[39;00m\u001b[39m` as redirect URI without a port. \u001b[39m\u001b[39m'\u001b[39m\n\u001b[1;32m    493\u001b[0m                        \u001b[39m'\u001b[39m\u001b[39mSpecify a port (e.g. `\u001b[39m\u001b[39m%s\u001b[39;00m\u001b[39m:8080`) to allow \u001b[39m\u001b[39m'\u001b[39m\n\u001b[1;32m    494\u001b[0m                        \u001b[39m'\u001b[39m\u001b[39mautomatic retrieval of authentication code \u001b[39m\u001b[39m'\u001b[39m\n\u001b[1;32m    495\u001b[0m                        \u001b[39m'\u001b[39m\u001b[39minstead of having to copy and paste \u001b[39m\u001b[39m'\u001b[39m\n\u001b[1;32m    496\u001b[0m                        \u001b[39m'\u001b[39m\u001b[39mthe URL your browser is redirected to.\u001b[39m\u001b[39m'\u001b[39m,\n\u001b[1;32m    497\u001b[0m                        redirect_host, redirect_host)\n",
      "File \u001b[0;32m~/opt/anaconda3/envs/cvnets/lib/python3.8/site-packages/spotipy/oauth2.py:459\u001b[0m, in \u001b[0;36mSpotifyOAuth._get_auth_response_local_server\u001b[0;34m(self, redirect_port)\u001b[0m\n\u001b[1;32m    457\u001b[0m server \u001b[39m=\u001b[39m start_local_http_server(redirect_port)\n\u001b[1;32m    458\u001b[0m \u001b[39mself\u001b[39m\u001b[39m.\u001b[39m_open_auth_url()\n\u001b[0;32m--> 459\u001b[0m server\u001b[39m.\u001b[39;49mhandle_request()\n\u001b[1;32m    461\u001b[0m \u001b[39mif\u001b[39;00m server\u001b[39m.\u001b[39merror \u001b[39mis\u001b[39;00m \u001b[39mnot\u001b[39;00m \u001b[39mNone\u001b[39;00m:\n\u001b[1;32m    462\u001b[0m     \u001b[39mraise\u001b[39;00m server\u001b[39m.\u001b[39merror\n",
      "File \u001b[0;32m~/opt/anaconda3/envs/cvnets/lib/python3.8/socketserver.py:294\u001b[0m, in \u001b[0;36mBaseServer.handle_request\u001b[0;34m(self)\u001b[0m\n\u001b[1;32m    291\u001b[0m selector\u001b[39m.\u001b[39mregister(\u001b[39mself\u001b[39m, selectors\u001b[39m.\u001b[39mEVENT_READ)\n\u001b[1;32m    293\u001b[0m \u001b[39mwhile\u001b[39;00m \u001b[39mTrue\u001b[39;00m:\n\u001b[0;32m--> 294\u001b[0m     ready \u001b[39m=\u001b[39m selector\u001b[39m.\u001b[39;49mselect(timeout)\n\u001b[1;32m    295\u001b[0m     \u001b[39mif\u001b[39;00m ready:\n\u001b[1;32m    296\u001b[0m         \u001b[39mreturn\u001b[39;00m \u001b[39mself\u001b[39m\u001b[39m.\u001b[39m_handle_request_noblock()\n",
      "File \u001b[0;32m~/opt/anaconda3/envs/cvnets/lib/python3.8/selectors.py:415\u001b[0m, in \u001b[0;36m_PollLikeSelector.select\u001b[0;34m(self, timeout)\u001b[0m\n\u001b[1;32m    413\u001b[0m ready \u001b[39m=\u001b[39m []\n\u001b[1;32m    414\u001b[0m \u001b[39mtry\u001b[39;00m:\n\u001b[0;32m--> 415\u001b[0m     fd_event_list \u001b[39m=\u001b[39m \u001b[39mself\u001b[39;49m\u001b[39m.\u001b[39;49m_selector\u001b[39m.\u001b[39;49mpoll(timeout)\n\u001b[1;32m    416\u001b[0m \u001b[39mexcept\u001b[39;00m \u001b[39mInterruptedError\u001b[39;00m:\n\u001b[1;32m    417\u001b[0m     \u001b[39mreturn\u001b[39;00m ready\n",
      "\u001b[0;31mKeyboardInterrupt\u001b[0m: "
     ]
    }
   ],
   "source": [
    "def get_recently_liked_songs(limit=20):\n",
    "    results = sp.current_user_saved_tracks(limit=limit)\n",
    "    return [track['track'] for track in results['items']]\n",
    "\n",
    "recently_liked_songs = get_recently_liked_songs()\n"
   ]
  },
  {
   "cell_type": "code",
   "execution_count": null,
   "metadata": {},
   "outputs": [],
   "source": [
    "def get_related_tracks(liked_songs, limit=5):\n",
    "    track_ids = [song['id'] for song in liked_songs]\n",
    "    related_tracks = []\n",
    "\n",
    "    for track_id in track_ids:\n",
    "        related = sp.recommendations(seed_tracks=[track_id], limit=limit)\n",
    "        related_tracks.extend(related['tracks'])\n",
    "\n",
    "    return related_tracks\n",
    "\n",
    "related_songs = get_related_tracks(recently_liked_songs)"
   ]
  },
  {
   "cell_type": "code",
   "execution_count": null,
   "metadata": {},
   "outputs": [],
   "source": [
    "def get_related_tracks(liked_songs, limit=5):\n",
    "    track_ids = [song['id'] for song in liked_songs]\n",
    "    related_tracks = []\n",
    "\n",
    "    for track_id in track_ids:\n",
    "        related = sp.recommendations(seed_tracks=[track_id], limit=limit)\n",
    "        related_tracks.extend(related['tracks'])\n",
    "\n",
    "    return related_tracks\n",
    "\n",
    "related_songs = get_related_tracks(recently_liked_songs)"
   ]
  },
  {
   "cell_type": "code",
   "execution_count": null,
   "metadata": {},
   "outputs": [],
   "source": [
    "def create_playlist(name, description, track_uris):\n",
    "    user_id = sp.current_user()['id']\n",
    "    playlist = sp.user_playlist_create(user_id, name, description=description)\n",
    "    sp.playlist_add_items(playlist['id'], track_uris)\n",
    "    return playlist['external_urls']['spotify']\n",
    "\n",
    "playlist_name = 'Generated Playlist'\n",
    "playlist_description = 'A playlist generated based on your most recently liked songs.'\n",
    "\n",
    "track_uris = [song['uri'] for song in related_songs]\n",
    "playlist_url = create_playlist(playlist_name, playlist_description, track_uris)\n",
    "\n",
    "print(f'Your new playlist is ready: {playlist_url}')\n"
   ]
  }
 ],
 "metadata": {
  "kernelspec": {
   "display_name": "cvnets",
   "language": "python",
   "name": "python3"
  },
  "language_info": {
   "codemirror_mode": {
    "name": "ipython",
    "version": 3
   },
   "file_extension": ".py",
   "mimetype": "text/x-python",
   "name": "python",
   "nbconvert_exporter": "python",
   "pygments_lexer": "ipython3",
   "version": "3.8.16"
  },
  "orig_nbformat": 4,
  "vscode": {
   "interpreter": {
    "hash": "0e99f25d1d46d5707c25132447d8eaab407878b5883a842d44f770b1b357eede"
   }
  }
 },
 "nbformat": 4,
 "nbformat_minor": 2
}
